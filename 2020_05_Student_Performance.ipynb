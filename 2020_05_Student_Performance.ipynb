{
  "nbformat": 4,
  "nbformat_minor": 0,
  "metadata": {
    "colab": {
      "name": "2020_05_Student_Performance",
      "provenance": []
    },
    "kernelspec": {
      "name": "python3",
      "display_name": "Python 3"
    }
  },
  "cells": [
    {
      "cell_type": "markdown",
      "metadata": {
        "id": "6_3C6vait4Kj",
        "colab_type": "text"
      },
      "source": [
        "# **Analyzing Student Performance**\n",
        "---\n",
        "## **Objective**\n",
        "Identify correlation between each variable and the test scores.\n",
        "\n",
        "Dataset source: http://roycekimmons.com/tools/generated_data/exams"
      ]
    },
    {
      "cell_type": "markdown",
      "metadata": {
        "id": "OAoDx4JH-VFe",
        "colab_type": "text"
      },
      "source": [
        "## **Reading Data**"
      ]
    },
    {
      "cell_type": "code",
      "metadata": {
        "id": "06yW6pVIukxx",
        "colab_type": "code",
        "colab": {
          "base_uri": "https://localhost:8080/",
          "height": 71
        },
        "outputId": "c6102c8e-ab20-4e65-bbd0-43db0f26fd36"
      },
      "source": [
        "import pandas as pd\n",
        "import numpy as np\n",
        "import seaborn as sns\n",
        "import matplotlib.pyplot as plt\n",
        "import statsmodels.api as sm\n",
        "from statsmodels.formula.api import ols"
      ],
      "execution_count": 1,
      "outputs": [
        {
          "output_type": "stream",
          "text": [
            "/usr/local/lib/python3.6/dist-packages/statsmodels/tools/_testing.py:19: FutureWarning: pandas.util.testing is deprecated. Use the functions in the public API at pandas.testing instead.\n",
            "  import pandas.util.testing as tm\n"
          ],
          "name": "stderr"
        }
      ]
    },
    {
      "cell_type": "code",
      "metadata": {
        "id": "xxGMhNXTZVji",
        "colab_type": "code",
        "outputId": "0769b9bf-f089-45c2-bcc5-7406b034f286",
        "colab": {
          "base_uri": "https://localhost:8080/",
          "height": 122
        }
      },
      "source": [
        "from google.colab import drive\n",
        "drive.mount('/content/drive')"
      ],
      "execution_count": 2,
      "outputs": [
        {
          "output_type": "stream",
          "text": [
            "Go to this URL in a browser: https://accounts.google.com/o/oauth2/auth?client_id=947318989803-6bn6qk8qdgf4n4g3pfee6491hc0brc4i.apps.googleusercontent.com&redirect_uri=urn%3aietf%3awg%3aoauth%3a2.0%3aoob&response_type=code&scope=email%20https%3a%2f%2fwww.googleapis.com%2fauth%2fdocs.test%20https%3a%2f%2fwww.googleapis.com%2fauth%2fdrive%20https%3a%2f%2fwww.googleapis.com%2fauth%2fdrive.photos.readonly%20https%3a%2f%2fwww.googleapis.com%2fauth%2fpeopleapi.readonly\n",
            "\n",
            "Enter your authorization code:\n",
            "··········\n",
            "Mounted at /content/drive\n"
          ],
          "name": "stdout"
        }
      ]
    },
    {
      "cell_type": "code",
      "metadata": {
        "id": "s-Rdzcw9WMEl",
        "colab_type": "code",
        "outputId": "6e01899e-dad7-44df-8ace-acbed4648927",
        "colab": {
          "base_uri": "https://localhost:8080/",
          "height": 255
        }
      },
      "source": [
        "def dataset():\n",
        "    '''\n",
        "    Asks the user to import a dataset from a Google Drive folder into a Google Colab \n",
        "    project and reads the first 5 indexes.\n",
        "    '''\n",
        "    # f = .csv\n",
        "    f = input(\"Dataset: \")\n",
        "    global df\n",
        "    df = pd.read_csv(\"/content/drive/My Drive/datasets/\" + f)\n",
        "    return df.head()\n",
        "\n",
        "dataset()"
      ],
      "execution_count": 3,
      "outputs": [
        {
          "output_type": "stream",
          "text": [
            "Dataset: StudentsPerformance.csv\n"
          ],
          "name": "stdout"
        },
        {
          "output_type": "execute_result",
          "data": {
            "text/html": [
              "<div>\n",
              "<style scoped>\n",
              "    .dataframe tbody tr th:only-of-type {\n",
              "        vertical-align: middle;\n",
              "    }\n",
              "\n",
              "    .dataframe tbody tr th {\n",
              "        vertical-align: top;\n",
              "    }\n",
              "\n",
              "    .dataframe thead th {\n",
              "        text-align: right;\n",
              "    }\n",
              "</style>\n",
              "<table border=\"1\" class=\"dataframe\">\n",
              "  <thead>\n",
              "    <tr style=\"text-align: right;\">\n",
              "      <th></th>\n",
              "      <th>gender</th>\n",
              "      <th>race/ethnicity</th>\n",
              "      <th>parental level of education</th>\n",
              "      <th>lunch</th>\n",
              "      <th>test preparation course</th>\n",
              "      <th>math score</th>\n",
              "      <th>reading score</th>\n",
              "      <th>writing score</th>\n",
              "    </tr>\n",
              "  </thead>\n",
              "  <tbody>\n",
              "    <tr>\n",
              "      <th>0</th>\n",
              "      <td>female</td>\n",
              "      <td>group B</td>\n",
              "      <td>bachelor's degree</td>\n",
              "      <td>standard</td>\n",
              "      <td>none</td>\n",
              "      <td>72</td>\n",
              "      <td>72</td>\n",
              "      <td>74</td>\n",
              "    </tr>\n",
              "    <tr>\n",
              "      <th>1</th>\n",
              "      <td>female</td>\n",
              "      <td>group C</td>\n",
              "      <td>some college</td>\n",
              "      <td>standard</td>\n",
              "      <td>completed</td>\n",
              "      <td>69</td>\n",
              "      <td>90</td>\n",
              "      <td>88</td>\n",
              "    </tr>\n",
              "    <tr>\n",
              "      <th>2</th>\n",
              "      <td>female</td>\n",
              "      <td>group B</td>\n",
              "      <td>master's degree</td>\n",
              "      <td>standard</td>\n",
              "      <td>none</td>\n",
              "      <td>90</td>\n",
              "      <td>95</td>\n",
              "      <td>93</td>\n",
              "    </tr>\n",
              "    <tr>\n",
              "      <th>3</th>\n",
              "      <td>male</td>\n",
              "      <td>group A</td>\n",
              "      <td>associate's degree</td>\n",
              "      <td>free/reduced</td>\n",
              "      <td>none</td>\n",
              "      <td>47</td>\n",
              "      <td>57</td>\n",
              "      <td>44</td>\n",
              "    </tr>\n",
              "    <tr>\n",
              "      <th>4</th>\n",
              "      <td>male</td>\n",
              "      <td>group C</td>\n",
              "      <td>some college</td>\n",
              "      <td>standard</td>\n",
              "      <td>none</td>\n",
              "      <td>76</td>\n",
              "      <td>78</td>\n",
              "      <td>75</td>\n",
              "    </tr>\n",
              "  </tbody>\n",
              "</table>\n",
              "</div>"
            ],
            "text/plain": [
              "   gender race/ethnicity  ... reading score writing score\n",
              "0  female        group B  ...            72            74\n",
              "1  female        group C  ...            90            88\n",
              "2  female        group B  ...            95            93\n",
              "3    male        group A  ...            57            44\n",
              "4    male        group C  ...            78            75\n",
              "\n",
              "[5 rows x 8 columns]"
            ]
          },
          "metadata": {
            "tags": []
          },
          "execution_count": 3
        }
      ]
    },
    {
      "cell_type": "code",
      "metadata": {
        "id": "8YVIFRjFeWIk",
        "colab_type": "code",
        "outputId": "77823471-ebb3-425f-bbc0-9832ab3e3c95",
        "colab": {
          "base_uri": "https://localhost:8080/",
          "height": 34
        }
      },
      "source": [
        "df.shape"
      ],
      "execution_count": 4,
      "outputs": [
        {
          "output_type": "execute_result",
          "data": {
            "text/plain": [
              "(1000, 8)"
            ]
          },
          "metadata": {
            "tags": []
          },
          "execution_count": 4
        }
      ]
    },
    {
      "cell_type": "code",
      "metadata": {
        "id": "u-CEZra5e_RL",
        "colab_type": "code",
        "outputId": "cab84027-59af-4819-cc26-169b906a86cc",
        "colab": {
          "base_uri": "https://localhost:8080/",
          "height": 170
        }
      },
      "source": [
        "df.dtypes"
      ],
      "execution_count": 5,
      "outputs": [
        {
          "output_type": "execute_result",
          "data": {
            "text/plain": [
              "gender                         object\n",
              "race/ethnicity                 object\n",
              "parental level of education    object\n",
              "lunch                          object\n",
              "test preparation course        object\n",
              "math score                      int64\n",
              "reading score                   int64\n",
              "writing score                   int64\n",
              "dtype: object"
            ]
          },
          "metadata": {
            "tags": []
          },
          "execution_count": 5
        }
      ]
    },
    {
      "cell_type": "code",
      "metadata": {
        "id": "jvYxZLOMfBET",
        "colab_type": "code",
        "outputId": "006fd4b6-dd73-4073-be33-6c93c3b19604",
        "colab": {
          "base_uri": "https://localhost:8080/",
          "height": 170
        }
      },
      "source": [
        "df.isnull().sum()"
      ],
      "execution_count": 6,
      "outputs": [
        {
          "output_type": "execute_result",
          "data": {
            "text/plain": [
              "gender                         0\n",
              "race/ethnicity                 0\n",
              "parental level of education    0\n",
              "lunch                          0\n",
              "test preparation course        0\n",
              "math score                     0\n",
              "reading score                  0\n",
              "writing score                  0\n",
              "dtype: int64"
            ]
          },
          "metadata": {
            "tags": []
          },
          "execution_count": 6
        }
      ]
    },
    {
      "cell_type": "code",
      "metadata": {
        "id": "EevpXssnfHkb",
        "colab_type": "code",
        "outputId": "6f953ca5-d421-4db2-d76a-cb807d9f7968",
        "colab": {
          "base_uri": "https://localhost:8080/",
          "height": 297
        }
      },
      "source": [
        "df.describe()"
      ],
      "execution_count": 7,
      "outputs": [
        {
          "output_type": "execute_result",
          "data": {
            "text/html": [
              "<div>\n",
              "<style scoped>\n",
              "    .dataframe tbody tr th:only-of-type {\n",
              "        vertical-align: middle;\n",
              "    }\n",
              "\n",
              "    .dataframe tbody tr th {\n",
              "        vertical-align: top;\n",
              "    }\n",
              "\n",
              "    .dataframe thead th {\n",
              "        text-align: right;\n",
              "    }\n",
              "</style>\n",
              "<table border=\"1\" class=\"dataframe\">\n",
              "  <thead>\n",
              "    <tr style=\"text-align: right;\">\n",
              "      <th></th>\n",
              "      <th>math score</th>\n",
              "      <th>reading score</th>\n",
              "      <th>writing score</th>\n",
              "    </tr>\n",
              "  </thead>\n",
              "  <tbody>\n",
              "    <tr>\n",
              "      <th>count</th>\n",
              "      <td>1000.00000</td>\n",
              "      <td>1000.000000</td>\n",
              "      <td>1000.000000</td>\n",
              "    </tr>\n",
              "    <tr>\n",
              "      <th>mean</th>\n",
              "      <td>66.08900</td>\n",
              "      <td>69.169000</td>\n",
              "      <td>68.054000</td>\n",
              "    </tr>\n",
              "    <tr>\n",
              "      <th>std</th>\n",
              "      <td>15.16308</td>\n",
              "      <td>14.600192</td>\n",
              "      <td>15.195657</td>\n",
              "    </tr>\n",
              "    <tr>\n",
              "      <th>min</th>\n",
              "      <td>0.00000</td>\n",
              "      <td>17.000000</td>\n",
              "      <td>10.000000</td>\n",
              "    </tr>\n",
              "    <tr>\n",
              "      <th>25%</th>\n",
              "      <td>57.00000</td>\n",
              "      <td>59.000000</td>\n",
              "      <td>57.750000</td>\n",
              "    </tr>\n",
              "    <tr>\n",
              "      <th>50%</th>\n",
              "      <td>66.00000</td>\n",
              "      <td>70.000000</td>\n",
              "      <td>69.000000</td>\n",
              "    </tr>\n",
              "    <tr>\n",
              "      <th>75%</th>\n",
              "      <td>77.00000</td>\n",
              "      <td>79.000000</td>\n",
              "      <td>79.000000</td>\n",
              "    </tr>\n",
              "    <tr>\n",
              "      <th>max</th>\n",
              "      <td>100.00000</td>\n",
              "      <td>100.000000</td>\n",
              "      <td>100.000000</td>\n",
              "    </tr>\n",
              "  </tbody>\n",
              "</table>\n",
              "</div>"
            ],
            "text/plain": [
              "       math score  reading score  writing score\n",
              "count  1000.00000    1000.000000    1000.000000\n",
              "mean     66.08900      69.169000      68.054000\n",
              "std      15.16308      14.600192      15.195657\n",
              "min       0.00000      17.000000      10.000000\n",
              "25%      57.00000      59.000000      57.750000\n",
              "50%      66.00000      70.000000      69.000000\n",
              "75%      77.00000      79.000000      79.000000\n",
              "max     100.00000     100.000000     100.000000"
            ]
          },
          "metadata": {
            "tags": []
          },
          "execution_count": 7
        }
      ]
    },
    {
      "cell_type": "code",
      "metadata": {
        "id": "D7G5SEuL9f27",
        "colab_type": "code",
        "colab": {
          "base_uri": "https://localhost:8080/",
          "height": 119
        },
        "outputId": "8a688833-a11c-4473-ac4e-af3c6ccad7f7"
      },
      "source": [
        "# Rename the columns for convenience.\n",
        "df.columns\n",
        "categories = ['gender', 'race', 'parent_educ', 'lunch', 'test_prep']\n",
        "newcols = categories + ['math', 'reading', 'writing']\n",
        "df.columns = newcols\n",
        "df[categories].nunique()"
      ],
      "execution_count": 25,
      "outputs": [
        {
          "output_type": "execute_result",
          "data": {
            "text/plain": [
              "gender         2\n",
              "race           5\n",
              "parent_educ    6\n",
              "lunch          2\n",
              "test_prep      2\n",
              "dtype: int64"
            ]
          },
          "metadata": {
            "tags": []
          },
          "execution_count": 25
        }
      ]
    },
    {
      "cell_type": "markdown",
      "metadata": {
        "id": "AGT-5LkThUoh",
        "colab_type": "text"
      },
      "source": [
        "## **Visualizing**"
      ]
    },
    {
      "cell_type": "code",
      "metadata": {
        "id": "NZP5ieAihhAF",
        "colab_type": "code",
        "colab": {}
      },
      "source": [
        "def cat_box_plot(category):\n",
        "  plt.figure(figsize=(10,8))\n",
        "  melted = pd.melt(df, id_vars=[category], value_vars=['math', 'writing', 'reading'], value_name='score', var_name='test')\n",
        "  sns.boxplot(x='test', y='score', hue=category, data=melted)"
      ],
      "execution_count": 0,
      "outputs": []
    },
    {
      "cell_type": "markdown",
      "metadata": {
        "id": "dhQtvmVt9RW9",
        "colab_type": "text"
      },
      "source": [
        "### Gender"
      ]
    },
    {
      "cell_type": "code",
      "metadata": {
        "id": "m7n1R6Sa9P2O",
        "colab_type": "code",
        "colab": {
          "base_uri": "https://localhost:8080/",
          "height": 497
        },
        "outputId": "367ad074-5a2b-42c8-ea58-e819b8a089e8"
      },
      "source": [
        "cat_box_plot('gender')"
      ],
      "execution_count": 26,
      "outputs": [
        {
          "output_type": "display_data",
          "data": {
            "image/png": "[encoded data removed]",
            "text/plain": [
              "<Figure size 720x576 with 1 Axes>"
            ]
          },
          "metadata": {
            "tags": [],
            "needs_background": "light"
          }
        }
      ]
    },
    {
      "cell_type": "markdown",
      "metadata": {
        "id": "ErNPMSRe96D7",
        "colab_type": "text"
      },
      "source": [
        "Looking at the plot, we can see that males have better performance in Math, while females scored higher in Writing and Reading. The distributions for each test looks normal, with few outliers at the lower end, so we can try using ANOVA to test for statistical significance of the differences in the scores."
      ]
    },
    {
      "cell_type": "markdown",
      "metadata": {
        "id": "3GqT6Z8J7CqT",
        "colab_type": "text"
      },
      "source": [
        "### Race"
      ]
    },
    {
      "cell_type": "code",
      "metadata": {
        "id": "mvR-JQs_jOTj",
        "colab_type": "code",
        "outputId": "81a604b5-cf78-498c-b7c9-10d2fbe18786",
        "colab": {
          "base_uri": "https://localhost:8080/",
          "height": 497
        }
      },
      "source": [
        "cat_box_plot('race')"
      ],
      "execution_count": 27,
      "outputs": [
        {
          "output_type": "display_data",
          "data": {
            "image/png": "[encoded data removed]",
            "text/plain": [
              "<Figure size 720x576 with 1 Axes>"
            ]
          },
          "metadata": {
            "tags": [],
            "needs_background": "light"
          }
        }
      ]
    },
    {
      "cell_type": "markdown",
      "metadata": {
        "id": "Ex4iars27DYo",
        "colab_type": "text"
      },
      "source": [
        "By race, there's also some visually evident differences. Race E seems to perform better on all tests than all other groups, save for writing where Race D performed just about the same as Race E. The ranking of the performances of each race group seems to also be consistent among the three tests."
      ]
    },
    {
      "cell_type": "markdown",
      "metadata": {
        "id": "_aDkS2vf-zbr",
        "colab_type": "text"
      },
      "source": [
        "### Parent Level of Education"
      ]
    },
    {
      "cell_type": "code",
      "metadata": {
        "id": "DaxalI3p-7gO",
        "colab_type": "code",
        "colab": {
          "base_uri": "https://localhost:8080/",
          "height": 497
        },
        "outputId": "12ea1d5f-c85c-418a-a7a6-44db29d4246b"
      },
      "source": [
        "cat_box_plot('parent_educ')"
      ],
      "execution_count": 28,
      "outputs": [
        {
          "output_type": "display_data",
          "data": {
            "image/png": "[encoded data removed]",
            "text/plain": [
              "<Figure size 720x576 with 1 Axes>"
            ]
          },
          "metadata": {
            "tags": [],
            "needs_background": "light"
          }
        }
      ]
    },
    {
      "cell_type": "markdown",
      "metadata": {
        "id": "GzMcM7tf_WTB",
        "colab_type": "text"
      },
      "source": [
        "Same as with race, we can see that across the different groups for Parental Level of Education, the ranking of the test performances are consistent. Relatively speaking, students whose parents have master's degrees have the best peformances on average."
      ]
    },
    {
      "cell_type": "markdown",
      "metadata": {
        "id": "79AcfMRS_j02",
        "colab_type": "text"
      },
      "source": [
        "### Lunch"
      ]
    },
    {
      "cell_type": "code",
      "metadata": {
        "id": "Zrw9yAGT_mlU",
        "colab_type": "code",
        "colab": {
          "base_uri": "https://localhost:8080/",
          "height": 497
        },
        "outputId": "86840bc7-c854-4aa1-87bd-a6a9f746baea"
      },
      "source": [
        "cat_box_plot('lunch')"
      ],
      "execution_count": 29,
      "outputs": [
        {
          "output_type": "display_data",
          "data": {
            "image/png": "[encoded data removed]",
            "text/plain": [
              "<Figure size 720x576 with 1 Axes>"
            ]
          },
          "metadata": {
            "tags": [],
            "needs_background": "light"
          }
        }
      ]
    },
    {
      "cell_type": "markdown",
      "metadata": {
        "id": "b6J0t5hM_sQg",
        "colab_type": "text"
      },
      "source": [
        "Students who have standard lunch seemed to perform better on average than those who have free/reduced lunch on all our three tests."
      ]
    },
    {
      "cell_type": "markdown",
      "metadata": {
        "id": "0j9C2woL_-JC",
        "colab_type": "text"
      },
      "source": [
        "### Test Preparation"
      ]
    },
    {
      "cell_type": "code",
      "metadata": {
        "id": "EXRKLQtGAIXh",
        "colab_type": "code",
        "colab": {
          "base_uri": "https://localhost:8080/",
          "height": 497
        },
        "outputId": "3f0b328f-ed57-4cd1-96c1-b706a96b16e4"
      },
      "source": [
        "cat_box_plot('test_prep')"
      ],
      "execution_count": 30,
      "outputs": [
        {
          "output_type": "display_data",
          "data": {
            "image/png": "[encoded data removed]",
            "text/plain": [
              "<Figure size 720x576 with 1 Axes>"
            ]
          },
          "metadata": {
            "tags": [],
            "needs_background": "light"
          }
        }
      ]
    },
    {
      "cell_type": "markdown",
      "metadata": {
        "id": "OrFhGxHrAKjl",
        "colab_type": "text"
      },
      "source": [
        "Consistently, those who have completed a test prep course performed better on average than those who did not do so."
      ]
    },
    {
      "cell_type": "markdown",
      "metadata": {
        "colab_type": "text",
        "id": "ARRaQH8H23R2"
      },
      "source": [
        "## **ANOVA**\n",
        "\n",
        "Now we will see if the differences between the groups in each categories are statistically significant. I will do this using 1-way ANOVA test with 95% confidence interval."
      ]
    },
    {
      "cell_type": "code",
      "metadata": {
        "id": "GA2Qxhgw238u",
        "colab_type": "code",
        "colab": {}
      },
      "source": [
        "tests = ['math', 'reading', 'writing']\n",
        "\n",
        "def anova_oneway(category):\n",
        "  print(\"Category: {}\".format(category))\n",
        "  for test in tests:\n",
        "    lm = ols('{} ~ {}'.format(test, category), data=df).fit()\n",
        "    stat = sm.stats.anova_lm(lm)\n",
        "    print(\"P-value for {} scores: {} \".format(test, stat.loc[category, 'PR(>F)']))"
      ],
      "execution_count": 0,
      "outputs": []
    },
    {
      "cell_type": "code",
      "metadata": {
        "id": "Lv_FVhDXAvPM",
        "colab_type": "code",
        "colab": {
          "base_uri": "https://localhost:8080/",
          "height": 442
        },
        "outputId": "aae5d694-d77b-4443-e606-56da78f3b8dd"
      },
      "source": [
        "for cat in categories:\n",
        "  anova_oneway(cat)\n",
        "  print(\"=\" * 20)"
      ],
      "execution_count": 32,
      "outputs": [
        {
          "output_type": "stream",
          "text": [
            "Category: gender\n",
            "P-value for math scores: 9.120185549333453e-08 \n",
            "P-value for reading scores: 4.680538743934009e-15 \n",
            "P-value for writing scores: 2.0198777068682407e-22 \n",
            "====================\n",
            "Category: race\n",
            "P-value for math scores: 1.3732194030370688e-11 \n",
            "P-value for reading scores: 0.0001780089103235852 \n",
            "P-value for writing scores: 1.0979189070066777e-05 \n",
            "====================\n",
            "Category: parent_educ\n",
            "P-value for math scores: 5.592272384108375e-06 \n",
            "P-value for reading scores: 1.1682457045709003e-08 \n",
            "P-value for writing scores: 1.1202799969774331e-13 \n",
            "====================\n",
            "Category: lunch\n",
            "P-value for math scores: 2.413195599315183e-30 \n",
            "P-value for reading scores: 2.0027966545288553e-13 \n",
            "P-value for writing scores: 3.1861895831680456e-15 \n",
            "====================\n",
            "Category: test_prep\n",
            "P-value for math scores: 1.5359134607155386e-08 \n",
            "P-value for reading scores: 9.081783336895556e-15 \n",
            "P-value for writing scores: 3.6852917352476696e-24 \n",
            "====================\n"
          ],
          "name": "stdout"
        }
      ]
    },
    {
      "cell_type": "markdown",
      "metadata": {
        "id": "q6cb9-T8BNcu",
        "colab_type": "text"
      },
      "source": [
        "## **Summary**\n",
        "\n",
        "For all categories of `gender`, `race`, `parent_educ`, `lunch`, `test_prep`, the differences between the means of the respective groups all have p-values < 0.05, which means they are statistically significant. The performance differences of students across these categories differs between the groups, but we can't tell which groups contribute to the differences yet. If we want to know that, we will have to perform additional tests."
      ]
    }
  ]
}